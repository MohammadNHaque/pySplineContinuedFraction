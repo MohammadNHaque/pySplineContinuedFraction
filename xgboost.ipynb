{
 "cells": [
  {
   "cell_type": "code",
   "execution_count": 1,
   "metadata": {},
   "outputs": [],
   "source": [
    "import numpy as np\n",
    "import matplotlib.pyplot as plt\n",
    "from sklearn.linear_model import LinearRegression, Ridge, ElasticNet, Lasso\n",
    "from sklearn.ensemble import RandomForestRegressor\n",
    "from sklearn.model_selection import train_test_split\n",
    "import xgboost\n",
    "from sklearn.metrics import mean_squared_error\n",
    "import os\n",
    "\n",
    "data_path = os.path.join(os.getcwd(), \"data\")\n",
    "# IEEE Transactions Recommended fonts are:Times New Roman, Helvetica, Arial, Cambria, and Symbol \"\n",
    "plt.rcParams['font.family'] = \"arial\""
   ]
  },
  {
   "cell_type": "markdown",
   "metadata": {},
   "source": [
    "<p>Currently, the XGBoost package from conda-forge channel doesn't support GPU. There is an on-going discussion about this: conda-forge/xgboost-feedstock#26. For now, you should obtain XGBoost from nvidia channel instead:\n",
    "\n",
    "conda install -c nvidia -c rapidsai py-xgboost\n",
    "\n",
    "I just tested this command using g4 instance on Amazon EC2.</p>"
   ]
  },
  {
   "cell_type": "markdown",
   "metadata": {},
   "source": [
    "### Model Definition\n",
    "\n",
    "This model uses standard linear regression to fit each depth."
   ]
  },
  {
   "cell_type": "code",
   "execution_count": 2,
   "metadata": {},
   "outputs": [],
   "source": [
    "class CFModel:\n",
    "    def __init__(self, depth, data_file='../data/functest.in', norm=1, test_size=0.2, lasso=False):\n",
    "        '''\n",
    "        depth - the depth of the continued fraction (note this is 1 indexed, so 1 is the smallest possible depth)\n",
    "        filename - path and name of the datafile \n",
    "        form - either 'GAM' which runs a Generalized Additive Model with splines or\n",
    "                      'linear' which is standard linear regression\n",
    "        '''\n",
    "        self.depth = depth\n",
    "        self.data_file = data_file\n",
    "        self.norm = norm\n",
    "        self.lasso = lasso\n",
    "        self.read_data()\n",
    "        \n",
    "#         self.X = np.c_[self.X, self.pair_interactions()]\n",
    "        \n",
    "        if test_size > 0:\n",
    "            self.X, self.X_test, self.y, self.y_test = train_test_split(self.X, self.y, test_size=test_size)\n",
    "                \n",
    "    def read_data(self):\n",
    "        '''\n",
    "        Gets the X and y data from a .in file.\n",
    "        \n",
    "        The X and y data are stored in the attributes\n",
    "        self.X and self.y.\n",
    "        \n",
    "        self.n is the number of samples, and self.m is the\n",
    "        number of features\n",
    "        '''\n",
    "        with open(self.data_file, 'r') as f:\n",
    "            n, m = f.readline().split('\\t')\n",
    "            self.n, self.m = int(n), int(m)\n",
    "            self.X = np.zeros((self.n, self.m))\n",
    "            self.y = np.zeros((self.n, ))\n",
    "            for i, line in enumerate(f):\n",
    "                points = [float(j) for j in line.split('\\t')]\n",
    "                self.y[i] = points[0]\n",
    "                self.X[i] = points[1:]\n",
    "\n",
    "        self.min_coeff = np.zeros((self.depth + 2, ))\n",
    "        self.y /= self.norm\n",
    "        \n",
    "    def fit(self):\n",
    "        '''\n",
    "        Fits the model on self.X and self.y.\n",
    "        '''\n",
    "        yfit = self.y\n",
    "        self.linear_models = []\n",
    "        for d in range(self.depth):\n",
    "            if self.lasso:\n",
    "                model = Lasso().fit(self.X, yfit)\n",
    "            else:\n",
    "                model = LinearRegression().fit(self.X, yfit)\n",
    "            self.linear_models.append(model)\n",
    "    \n",
    "            ypred = self.predict(self.X, d + 1)\n",
    "        \n",
    "            residual = yfit - model.predict(self.X)\n",
    "            \n",
    "            # min_coeff is the C constant in the algorithm description\n",
    "            # The reason for including this is that if the fitted linear\n",
    "            # function has a zero, it creates a pole in the model, as it\n",
    "            # is in the denominator. Thus, if we make yfit strictly positive,\n",
    "            # the fitted function won't have a zero in the domain, thus preventing\n",
    "            # poles. The constant C (or in this case self.min_coeff[d + 1]) just \n",
    "            # makes residual strictly positive\n",
    "            self.min_coeff[d + 1] = np.abs(residual.min()) + 1\n",
    "            residual = residual + self.min_coeff[d + 1]\n",
    "\n",
    "            yfit = 1 / residual    \n",
    "                        \n",
    "    def predict(self, X_pred, max_depth=None):\n",
    "        '''\n",
    "        Predicts the output of the model on X_pred. Note that\n",
    "        the model must be fitted first.\n",
    "        \n",
    "        max_depth - only compute up to (and not including) depth max_depth.\n",
    "        '''\n",
    "        if max_depth is None:\n",
    "            max_depth = self.depth\n",
    "        if max_depth < 2:\n",
    "            return self.compute_depth(0, X_pred)\n",
    "        \n",
    "        return (self.compute_depth(0, X_pred) + self.compute_recursive(1, X_pred, max_depth, X_pred))\n",
    "    \n",
    "    def compute_depth(self, d, X_pred):\n",
    "        return self.linear_models[d].predict(X_pred)\n",
    "    \n",
    "    def compute_recursive(self, d, X_pred, max_depth, X_pred_orig):\n",
    "        if d == max_depth - 1:\n",
    "            return (1 / self.compute_depth(d, X_pred)) - self.min_coeff[d]\n",
    "        \n",
    "        return (1 / (self.compute_depth(d, X_pred) + self.compute_recursive(d + 1, X_pred, max_depth, X_pred_orig))) - self.min_coeff[d]\n",
    "    \n",
    "    def pair_interactions(self, X=None):\n",
    "        '''\n",
    "        Augment X by adding metafeatures combining all pairs of variables.\n",
    "        '''\n",
    "        if X is None:\n",
    "            X = self.X\n",
    "        ind = range(X.shape[1])\n",
    "        prods = np.array(np.meshgrid(ind, ind)).reshape(2, -1)\n",
    "        augmented_X = X[:, prods[0]] * X[:, prods[1]]\n",
    "        return augmented_X\n",
    "    \n",
    "    def mse(self, test=False):\n",
    "        '''\n",
    "        Computes the mean squared error of a fitted model.\n",
    "        \n",
    "        test - whether to compute the test error. If False, computes\n",
    "        the training error.\n",
    "        '''\n",
    "        if test:\n",
    "            X_pred = self.X_test\n",
    "            y_true = self.y_test\n",
    "        else:\n",
    "            X_pred = self.X\n",
    "            y_true = self.y\n",
    "        y_pred = self.predict(X_pred)\n",
    "        return np.sum((y_pred - y_true)**2) / y_pred.shape[0]\n",
    "    \n",
    "    def plot_obsexp(self):\n",
    "        '''\n",
    "        Creates an expected vs. observed plot for a fitted model.\n",
    "        '''\n",
    "        xx = np.linspace(model.y.min(), model.y.max(), 1000)\n",
    "        #plt.plot(xx, xx, c='r')\n",
    "        y_pred = self.predict(self.X)\n",
    "        plt.scatter(self.y, y_pred, s=3)\n",
    "        plt.xlabel('Observed Date')\n",
    "        plt.ylabel('Model Date')\n",
    "        plt.savefig('obsexp.eps', format='eps')\n",
    "        #plt.show()"
   ]
  },
  {
   "cell_type": "code",
   "execution_count": 6,
   "metadata": {},
   "outputs": [],
   "source": [
    "model = xgboost.XGBRegressor(n_estimators=374, learning_rate=0.02, max_depth=16, min_child_weight=1, subsample=0.5)"
   ]
  },
  {
   "cell_type": "code",
   "execution_count": 7,
   "metadata": {},
   "outputs": [],
   "source": [
    "file = os.path.join(data_path, \"superconductivity_lowest-90.in\")\n",
    "\n",
    "model2 = CFModel(1, data_file=file, test_size=0)"
   ]
  },
  {
   "cell_type": "code",
   "execution_count": 8,
   "metadata": {},
   "outputs": [
    {
     "name": "stdout",
     "output_type": "stream",
     "text": [
      "[09:56:44] WARNING: src/objective/regression_obj.cu:152: reg:linear is now deprecated in favor of reg:squarederror.\n"
     ]
    },
    {
     "data": {
      "text/plain": [
       "XGBRegressor(base_score=0.5, booster='gbtree', colsample_bylevel=1,\n",
       "             colsample_bynode=1, colsample_bytree=1, gamma=0,\n",
       "             importance_type='gain', learning_rate=0.02, max_delta_step=0,\n",
       "             max_depth=16, min_child_weight=1, missing=None, n_estimators=374,\n",
       "             n_jobs=1, nthread=None, objective='reg:linear', random_state=0,\n",
       "             reg_alpha=0, reg_lambda=1, scale_pos_weight=1, seed=None,\n",
       "             silent=None, subsample=0.5, verbosity=1)"
      ]
     },
     "execution_count": 8,
     "metadata": {},
     "output_type": "execute_result"
    }
   ],
   "source": [
    "model.fit(model2.X, model2.y)"
   ]
  },
  {
   "cell_type": "code",
   "execution_count": 9,
   "metadata": {},
   "outputs": [],
   "source": [
    "file = os.path.join(data_path, \"superconductivity_highest-10.in\")\n",
    "model3 = CFModel(1, data_file=file, test_size=0)"
   ]
  },
  {
   "cell_type": "code",
   "execution_count": 10,
   "metadata": {},
   "outputs": [
    {
     "data": {
      "text/plain": [
       "Text(0, 0.5, 'Predicted Critical Temperature (K)')"
      ]
     },
     "execution_count": 10,
     "metadata": {},
     "output_type": "execute_result"
    },
    {
     "data": {
      "image/png": "[encoded data removed]",
      "text/plain": [
       "<Figure size 432x288 with 1 Axes>"
      ]
     },
     "metadata": {
      "needs_background": "light"
     },
     "output_type": "display_data"
    }
   ],
   "source": [
    "y_true = model3.y\n",
    "y_pred = model.predict(model3.X)\n",
    "xx = np.linspace(y_true.min(), y_true.max(), 1000)\n",
    "plt.plot(xx, xx, color='red')\n",
    "plt.scatter(y_true, y_pred, s=3)\n",
    "plt.xlabel('Observed Critical Temperature (K)')\n",
    "plt.ylabel('Predicted Critical Temperature (K)')\n",
    "#plt.savefig('xgboost_out_sample.eps', format='eps')"
   ]
  },
  {
   "cell_type": "code",
   "execution_count": 11,
   "metadata": {},
   "outputs": [
    {
     "data": {
      "text/plain": [
       "36.25649289615321"
      ]
     },
     "execution_count": 11,
     "metadata": {},
     "output_type": "execute_result"
    }
   ],
   "source": [
    "np.sqrt(np.sum((y_true - y_pred)**2) / y_true.shape[0])"
   ]
  },
  {
   "cell_type": "code",
   "execution_count": 13,
   "metadata": {},
   "outputs": [
    {
     "data": {
      "text/html": [
       "<div>\n",
       "<style scoped>\n",
       "    .dataframe tbody tr th:only-of-type {\n",
       "        vertical-align: middle;\n",
       "    }\n",
       "\n",
       "    .dataframe tbody tr th {\n",
       "        vertical-align: top;\n",
       "    }\n",
       "\n",
       "    .dataframe thead th {\n",
       "        text-align: right;\n",
       "    }\n",
       "</style>\n",
       "<table border=\"1\" class=\"dataframe\">\n",
       "  <thead>\n",
       "    <tr style=\"text-align: right;\">\n",
       "      <th></th>\n",
       "      <th>predicted</th>\n",
       "      <th>observed</th>\n",
       "    </tr>\n",
       "  </thead>\n",
       "  <tbody>\n",
       "    <tr>\n",
       "      <th>0</th>\n",
       "      <td>85.573357</td>\n",
       "      <td>89.0</td>\n",
       "    </tr>\n",
       "    <tr>\n",
       "      <th>1</th>\n",
       "      <td>86.943901</td>\n",
       "      <td>89.0</td>\n",
       "    </tr>\n",
       "    <tr>\n",
       "      <th>2</th>\n",
       "      <td>76.603348</td>\n",
       "      <td>89.0</td>\n",
       "    </tr>\n",
       "    <tr>\n",
       "      <th>3</th>\n",
       "      <td>69.905998</td>\n",
       "      <td>89.0</td>\n",
       "    </tr>\n",
       "    <tr>\n",
       "      <th>4</th>\n",
       "      <td>85.870911</td>\n",
       "      <td>89.0</td>\n",
       "    </tr>\n",
       "  </tbody>\n",
       "</table>\n",
       "</div>"
      ],
      "text/plain": [
       "   predicted  observed\n",
       "0  85.573357      89.0\n",
       "1  86.943901      89.0\n",
       "2  76.603348      89.0\n",
       "3  69.905998      89.0\n",
       "4  85.870911      89.0"
      ]
     },
     "execution_count": 13,
     "metadata": {},
     "output_type": "execute_result"
    }
   ],
   "source": [
    "import pandas as pd\n",
    "prev_obsrvd = {\"predicted\":y_pred, \"observed\": y_true}\n",
    "df = pd.DataFrame(prev_obsrvd)\n",
    "df.head()"
   ]
  },
  {
   "cell_type": "code",
   "execution_count": 14,
   "metadata": {},
   "outputs": [
    {
     "data": {
      "text/html": [
       "<div>\n",
       "<style scoped>\n",
       "    .dataframe tbody tr th:only-of-type {\n",
       "        vertical-align: middle;\n",
       "    }\n",
       "\n",
       "    .dataframe tbody tr th {\n",
       "        vertical-align: top;\n",
       "    }\n",
       "\n",
       "    .dataframe thead th {\n",
       "        text-align: right;\n",
       "    }\n",
       "</style>\n",
       "<table border=\"1\" class=\"dataframe\">\n",
       "  <thead>\n",
       "    <tr style=\"text-align: right;\">\n",
       "      <th></th>\n",
       "      <th>predicted</th>\n",
       "      <th>observed</th>\n",
       "    </tr>\n",
       "  </thead>\n",
       "  <tbody>\n",
       "    <tr>\n",
       "      <th>31</th>\n",
       "      <td>89.642960</td>\n",
       "      <td>89.20</td>\n",
       "    </tr>\n",
       "    <tr>\n",
       "      <th>1086</th>\n",
       "      <td>89.192184</td>\n",
       "      <td>94.20</td>\n",
       "    </tr>\n",
       "    <tr>\n",
       "      <th>126</th>\n",
       "      <td>88.690552</td>\n",
       "      <td>89.88</td>\n",
       "    </tr>\n",
       "    <tr>\n",
       "      <th>140</th>\n",
       "      <td>88.342285</td>\n",
       "      <td>89.93</td>\n",
       "    </tr>\n",
       "    <tr>\n",
       "      <th>213</th>\n",
       "      <td>88.151123</td>\n",
       "      <td>90.00</td>\n",
       "    </tr>\n",
       "    <tr>\n",
       "      <th>266</th>\n",
       "      <td>88.151123</td>\n",
       "      <td>90.10</td>\n",
       "    </tr>\n",
       "    <tr>\n",
       "      <th>395</th>\n",
       "      <td>88.151123</td>\n",
       "      <td>91.00</td>\n",
       "    </tr>\n",
       "    <tr>\n",
       "      <th>513</th>\n",
       "      <td>88.151123</td>\n",
       "      <td>91.30</td>\n",
       "    </tr>\n",
       "    <tr>\n",
       "      <th>1225</th>\n",
       "      <td>88.151123</td>\n",
       "      <td>96.10</td>\n",
       "    </tr>\n",
       "    <tr>\n",
       "      <th>184</th>\n",
       "      <td>88.102150</td>\n",
       "      <td>90.00</td>\n",
       "    </tr>\n",
       "  </tbody>\n",
       "</table>\n",
       "</div>"
      ],
      "text/plain": [
       "      predicted  observed\n",
       "31    89.642960     89.20\n",
       "1086  89.192184     94.20\n",
       "126   88.690552     89.88\n",
       "140   88.342285     89.93\n",
       "213   88.151123     90.00\n",
       "266   88.151123     90.10\n",
       "395   88.151123     91.00\n",
       "513   88.151123     91.30\n",
       "1225  88.151123     96.10\n",
       "184   88.102150     90.00"
      ]
     },
     "execution_count": 14,
     "metadata": {},
     "output_type": "execute_result"
    }
   ],
   "source": [
    "# top 10 predicted temperatures values\n",
    "df.nlargest(10, ['predicted']) "
   ]
  },
  {
   "cell_type": "code",
   "execution_count": 16,
   "metadata": {},
   "outputs": [
    {
     "data": {
      "text/plain": [
       "predicted    88.472575\n",
       "observed     91.171000\n",
       "dtype: float64"
      ]
     },
     "execution_count": 16,
     "metadata": {},
     "output_type": "execute_result"
    }
   ],
   "source": [
    "df.nlargest(10, ['predicted']).mean()"
   ]
  },
  {
   "cell_type": "code",
   "execution_count": null,
   "metadata": {},
   "outputs": [],
   "source": []
  }
 ],
 "metadata": {
  "kernelspec": {
   "display_name": "Python 3",
   "language": "python",
   "name": "python3"
  },
  "language_info": {
   "codemirror_mode": {
    "name": "ipython",
    "version": 3
   },
   "file_extension": ".py",
   "mimetype": "text/x-python",
   "name": "python",
   "nbconvert_exporter": "python",
   "pygments_lexer": "ipython3",
   "version": "3.7.6"
  }
 },
 "nbformat": 4,
 "nbformat_minor": 4
}
