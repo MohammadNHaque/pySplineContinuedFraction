{
 "cells": [
  {
   "cell_type": "code",
   "execution_count": 1,
   "metadata": {},
   "outputs": [],
   "source": [
    "import numpy as np\n",
    "import matplotlib.pyplot as plt\n",
    "import pygam\n",
    "from sklearn.linear_model import LinearRegression, Ridge, ElasticNet\n",
    "from sklearn.model_selection import train_test_split\n",
    "import os\n",
    "from matplotlib import rc\n",
    "import math  \n",
    "\n",
    "# IEEE Transactions Recommended fonts are:Times New Roman, Helvetica, Arial, Cambria, and Symbol \"\n",
    "plt.rcParams['font.family'] = \"arial\""
   ]
  },
  {
   "cell_type": "markdown",
   "metadata": {},
   "source": [
    "### Model Definition"
   ]
  },
  {
   "cell_type": "code",
   "execution_count": 2,
   "metadata": {},
   "outputs": [],
   "source": [
    "class CFModel:\n",
    "    def __init__(self, depth, data_file='../data/functest.in', k=3, lam=2, norm=10):\n",
    "        '''\n",
    "        depth - the depth of the continued fraction (note this is 1 indexed, so 1 is the smallest possible depth)\n",
    "        data_file - a .in file containing the training data\n",
    "        k - the number of new knots to place at each depth\n",
    "        lam - the regularization parameter lambda\n",
    "        '''\n",
    "        self.depth = depth\n",
    "        self.data_file = data_file\n",
    "        self.norm=norm\n",
    "        self.read_data()\n",
    "        self.min_coeff = np.zeros((self.depth + 2, ))\n",
    "        \n",
    "        self.k = k\n",
    "        self.lam = lam\n",
    "        \n",
    "        #self.X, self.X_test, self.y, self.y_test = train_test_split(self.X, self.y, test_size=0.2)\n",
    "                        \n",
    "        # self.knot_indices contains the indices of the samples at which the knots are placed. \n",
    "        self.knot_indices = []\n",
    "        \n",
    "    def read_data(self):\n",
    "        '''\n",
    "        Gets the X and y data from a .in file.\n",
    "        \n",
    "        The X and y data are stored in the attributes\n",
    "        self.X and self.y.\n",
    "        \n",
    "        self.n is the number of samples, and self.m is the\n",
    "        number of features\n",
    "        '''\n",
    "        with open(self.data_file, 'r') as f:\n",
    "            n, m = f.readline().split('\\t')\n",
    "            self.n, self.m = int(n), int(m)\n",
    "            self.X = np.zeros((self.n, self.m))\n",
    "            self.y = np.zeros((self.n, ))\n",
    "            for i, line in enumerate(f):\n",
    "                points = [float(j) for j in line.split('\\t')]\n",
    "                self.y[i] = points[0]\n",
    "                self.X[i] = points[1:]\n",
    "                        \n",
    "        self.y /= self.norm\n",
    "                        \n",
    "    def fit(self):\n",
    "        '''\n",
    "        Fits the model on self.X and self.y.\n",
    "        '''\n",
    "        self.models = []\n",
    "        yfit = self.y\n",
    "        for d in range(self.depth):\n",
    "            # For the very first depth, do a regular linear regression\n",
    "            # For the next depths, fit a spline based GAM\n",
    "            if d == 0:\n",
    "                model = ElasticNet().fit(self.X, yfit)\n",
    "            else:\n",
    "                terms = self.create_knots(d)\n",
    "                model = pygam.LinearGAM(terms).fit(self.X, yfit)\n",
    "            self.models.append(model)\n",
    "\n",
    "            residual = yfit - model.predict(self.X)\n",
    "            \n",
    "            # self.new_knot_indices contains the indices of the samples where the knots\n",
    "            # should be placed for the next depth\n",
    "            self.new_knot_indices = self.choose_knots(residual)\n",
    "\n",
    "            # Add a constant to make the residual positive, in order to avoid poles    \n",
    "            self.min_coeff[d + 1] = np.abs(residual.min()) + 1\n",
    "            residual = residual + self.min_coeff[d + 1]\n",
    "            \n",
    "            # The y values for the next depth\n",
    "            yfit = 1 / residual\n",
    "            \n",
    "                       \n",
    "    def predict(self, X_pred, max_depth=None):\n",
    "        '''\n",
    "        Predicts the output of the model on X_pred. Note that\n",
    "        the model must be fitted first.\n",
    "        \n",
    "        max_depth - only compute up to (and not including) depth max_depth.\n",
    "        '''\n",
    "        if max_depth is None:\n",
    "            max_depth = self.depth\n",
    "            \n",
    "        if max_depth < 2:\n",
    "            return self.compute_depth(0, X_pred)\n",
    "\n",
    "        return (self.compute_depth(0, X_pred) + self.compute_recursive(1, X_pred, max_depth)) * self.norm\n",
    "    \n",
    "    def compute_depth(self, d, X_pred):\n",
    "        '''\n",
    "        Returns the output of the model at depth d, computed at points X_pred.\n",
    "        '''\n",
    "        return self.models[d].predict(X_pred)\n",
    "\n",
    "    def compute_recursive(self, d, X_pred, max_depth):\n",
    "        '''\n",
    "        Returns the output of the model starting from depth d to max_depth, recrusively.\n",
    "        '''\n",
    "        if d == max_depth - 1:\n",
    "            return (1 / self.compute_depth(d, X_pred)) - self.min_coeff[d]\n",
    "        return (1 / (self.compute_depth(d, X_pred) + self.compute_recursive(d + 1, X_pred, max_depth))) - self.min_coeff[d]\n",
    "    \n",
    "    def mse(self, test=False):\n",
    "        '''\n",
    "        Computes the mean squared error of a fitted model.\n",
    "        \n",
    "        test - whether to compute the test error. If False, computes\n",
    "        the training error.\n",
    "        '''\n",
    "        if test:\n",
    "            X_pred = self.X_test\n",
    "            y_true = self.y_test*self.norm\n",
    "        else:\n",
    "            X_pred = self.X\n",
    "            y_true = self.y*self.norm\n",
    "        y_pred = self.predict(X_pred)\n",
    "        return np.sum((y_pred - y_true)**2) / y_pred.shape[0]\n",
    "    def rmse(self, test=False):\n",
    "        '''\n",
    "        Computes the Root mean squared error of a fitted model.\n",
    "        \n",
    "        test - whether to compute the test error. If False, computes\n",
    "        the training error.\n",
    "        '''\n",
    "        if test:\n",
    "            X_pred = self.X_test\n",
    "            y_true = self.y_test*self.norm\n",
    "        else:\n",
    "            X_pred = self.X\n",
    "            y_true = self.y*self.norm\n",
    "        y_pred = self.predict(X_pred)\n",
    "        return np.sqrt(np.sum((y_pred - y_true)**2) / y_pred.shape[0])\n",
    "    \n",
    "    def plot_obsexp(self, filename=\"\"):\n",
    "        '''\n",
    "        Creates an expected vs. observed plot for a fitted model.\n",
    "        '''\n",
    "        xx = np.linspace(model.y.min()*self.norm, model.y.max()*self.norm, 1000)\n",
    "        plt.plot(xx, xx, c='r')\n",
    "        y_pred = self.predict(self.X)\n",
    "        plt.scatter(self.y*self.norm, y_pred, s=3)\n",
    "        plt.xlabel('Observed Critical Temperature (K)')\n",
    "        plt.ylabel('Predicted Critical Temperature(K)')\n",
    "        if not filename:\n",
    "            plt.savefig('obsexp.eps', format='eps')\n",
    "        else:\n",
    "            plt.savefig(filename+\".eps\", format='eps')\n",
    "            plt.savefig(filename+ \".pdf\", format='pdf')\n",
    "\n",
    "    def create_knots(self, d, k=None, lam=None, method='adaptive'):\n",
    "        '''\n",
    "        Returns pygam SplineTerms for the GAM at depth d. (Note d is unused\n",
    "        with the current algorithm -- every depth has the same parameters.)\n",
    "        \n",
    "        The adaptive algorithm selects the top k unique knot locations\n",
    "        from self.new_knot_indices, which should have been\n",
    "        computed by self.choose_knots(), and adds them to the knots\n",
    "        used in the previous depth.\n",
    "        \n",
    "        lam - the regularization parameter lambda. Higher = stronger regularization\n",
    "        \n",
    "        method - either 'adaptive' or 'simple'. 'Adaptive' uses the experimental adaptive\n",
    "        algorithm described above. Simple just places k knots at evenly spaced intervals\n",
    "        along the domain. The custom modified version of the pygam library is required to use\n",
    "        'adaptive'.\n",
    "        '''\n",
    "        if k is None:\n",
    "            k = self.k\n",
    "            \n",
    "        if lam is None:\n",
    "            lam = self.lam\n",
    "            \n",
    "        X = self.X\n",
    "        \n",
    "        if method == 'simple':\n",
    "            n_splines = k\n",
    "            spline = pygam.s(0, n_splines=n_splines, lam=lam)\n",
    "            for i in range(1, X.shape[1]):\n",
    "                spline = spline + pygam.s(i, n_splines=n_splines, lam=lam)\n",
    "            return spline\n",
    "\n",
    "        # Get the indices of the top k highest error samples, making\n",
    "        # sure not to have any duplicates.\n",
    "        new_ind = []\n",
    "        n_used = 0\n",
    "        for i in self.new_knot_indices:\n",
    "            if i in self.knot_indices:\n",
    "                continue\n",
    "            \n",
    "            if n_used == self.k:\n",
    "                break\n",
    "                \n",
    "            new_ind.append(i)\n",
    "            n_used += 1\n",
    "        \n",
    "        # Take the new indices chosen at this depth, and add it to the current\n",
    "        # indices from the previous depths.\n",
    "        self.knot_indices = np.r_[self.knot_indices, new_ind].astype(int)\n",
    "        \n",
    "        # the knot locations to be passed into the SplineTerm must contain no\n",
    "        # duplicates and must be sorted\n",
    "        # Kind of messy - if any of the k new knots are already included in previous\n",
    "        # depths, they'll just be discarded, so you might end up with less than k new\n",
    "        # knots added. In practice, this seems to never happen. \n",
    "        knot_locations = np.unique(np.sort(X[self.knot_indices, 0]))\n",
    "        # Remove the min and the max, since they are already included as edge knots in pygam\n",
    "        a = np.min(X[:, 0])\n",
    "        b = np.max(X[:, 0])\n",
    "        knot_locations = np.delete(knot_locations, np.argwhere(np.logical_or(knot_locations == a, knot_locations == b)))\n",
    "        spline = pygam.s(0, knot_locations=knot_locations, lam=lam)\n",
    "        # Include a SplineTerm for every feature\n",
    "        for i in range(1, X.shape[1]):\n",
    "            knot_locations = np.unique(np.sort(X[self.knot_indices, i]))\n",
    "            a = np.min(X[:, i])\n",
    "            b = np.max(X[:, i])\n",
    "            knot_locations = np.delete(knot_locations, np.argwhere(np.logical_or(knot_locations == a, knot_locations == b)))\n",
    "            spline = spline + pygam.s(i, knot_locations=knot_locations, lam=lam)\n",
    "        return spline\n",
    "\n",
    "    def choose_knots(self, residuals):\n",
    "        '''\n",
    "        residuals - the residual between the ground truth and predicted values \n",
    "        of the data.\n",
    "        \n",
    "        This method returns a list of indicies of training samples from which\n",
    "        self.create_knots takes the top k indices for as new knots.\n",
    "        \n",
    "        The current algorithm sorts the indices of the samples by decreasing error,\n",
    "        taking only the samples where the residuals flip signs to prevent them \n",
    "        from being too close together.\n",
    "        '''\n",
    "        error = np.abs(residuals)\n",
    "        \n",
    "        highest_errors = np.argsort(error)[::-1]\n",
    "        \n",
    "        knot_indices = []\n",
    "        \n",
    "        # Every sample taken must have a different sign than the previous\n",
    "        curr_sign = None\n",
    "        for i in highest_errors:\n",
    "            if np.sign(residuals[i]) != curr_sign:\n",
    "                curr_sign = np.sign(residuals[i])\n",
    "                knot_indices.append(i)\n",
    "                \n",
    "        return np.array(knot_indices)"
   ]
  },
  {
   "cell_type": "markdown",
   "metadata": {},
   "source": [
    "### Usage"
   ]
  },
  {
   "cell_type": "markdown",
   "metadata": {},
   "source": [
    "<h4>Gamma with Depth=15</h4>"
   ]
  },
  {
   "cell_type": "code",
   "execution_count": 3,
   "metadata": {},
   "outputs": [
    {
     "name": "stderr",
     "output_type": "stream",
     "text": [
      "The PostScript backend does not support transparency; partially transparent artists will be rendered opaque.\n",
      "The PostScript backend does not support transparency; partially transparent artists will be rendered opaque.\n"
     ]
    },
    {
     "data": {
      "image/png": "[encoded data removed]",
      "text/plain": [
       "<Figure size 432x288 with 1 Axes>"
      ]
     },
     "metadata": {
      "needs_background": "light"
     },
     "output_type": "display_data"
    }
   ],
   "source": [
    "data_path = os.path.join(os.getcwd(), \"data\")\n",
    "file = os.path.join(data_path, \"gamma.in\")\n",
    "model = CFModel(15, k=3, lam=0, data_file=file, norm=1)\n",
    "model.fit()\n",
    "plt.scatter(model.X[:, 0], model.y, s=3, label='ground truth')\n",
    "xx = np.linspace(-3.5, 5, 10000).reshape(10000, 1)\n",
    "#plt.scatter(model.X[:, 0], model.predict(model.X), s=3)\n",
    "plt.scatter(xx, model.predict(xx), s=3, label='predicted')\n",
    "plt.legend()\n",
    "plt.ylim(-25, 25)\n",
    "plt.savefig('gamma15.eps', format='eps')\n",
    "plt.savefig('gamma15.pdf', format='pdf')"
   ]
  },
  {
   "cell_type": "markdown",
   "metadata": {},
   "source": [
    "<h4>Gamma with Depth=10</h4>"
   ]
  },
  {
   "cell_type": "code",
   "execution_count": 4,
   "metadata": {},
   "outputs": [
    {
     "name": "stderr",
     "output_type": "stream",
     "text": [
      "The PostScript backend does not support transparency; partially transparent artists will be rendered opaque.\n",
      "The PostScript backend does not support transparency; partially transparent artists will be rendered opaque.\n"
     ]
    },
    {
     "data": {
      "image/png": "[encoded data removed]",
      "text/plain": [
       "<Figure size 432x288 with 1 Axes>"
      ]
     },
     "metadata": {
      "needs_background": "light"
     },
     "output_type": "display_data"
    }
   ],
   "source": [
    "model = CFModel(10, k=3, lam=0, data_file=file, norm=1)\n",
    "model.fit()\n",
    "plt.scatter(model.X[:, 0], model.y, s=3, label='ground truth')\n",
    "xx = np.linspace(-3.5, 5, 10000).reshape(10000, 1)\n",
    "#plt.scatter(model.X[:, 0], model.predict(model.X), s=3)\n",
    "plt.scatter(xx, model.predict(xx), s=3, label='predicted')\n",
    "plt.legend()\n",
    "plt.ylim(-25, 25)\n",
    "plt.savefig('gamma10.eps', format='eps')\n",
    "plt.savefig('gamma10.pdf', format='pdf')"
   ]
  },
  {
   "cell_type": "markdown",
   "metadata": {},
   "source": [
    "<h4>Gamma with Depth=5</h4>"
   ]
  },
  {
   "cell_type": "code",
   "execution_count": 5,
   "metadata": {},
   "outputs": [
    {
     "name": "stderr",
     "output_type": "stream",
     "text": [
      "The PostScript backend does not support transparency; partially transparent artists will be rendered opaque.\n",
      "The PostScript backend does not support transparency; partially transparent artists will be rendered opaque.\n"
     ]
    },
    {
     "data": {
      "image/png": "[encoded data removed]",
      "text/plain": [
       "<Figure size 432x288 with 1 Axes>"
      ]
     },
     "metadata": {
      "needs_background": "light"
     },
     "output_type": "display_data"
    }
   ],
   "source": [
    "model = CFModel(5, k=3, lam=0, data_file=file, norm=1)\n",
    "model.fit()\n",
    "plt.scatter(model.X[:, 0], model.y, s=3, label='ground truth')\n",
    "xx = np.linspace(-3.5, 5, 10000).reshape(10000, 1)\n",
    "#plt.scatter(model.X[:, 0], model.predict(model.X), s=3)\n",
    "plt.scatter(xx, model.predict(xx), s=3, label='predicted')\n",
    "plt.legend()\n",
    "plt.ylim(-25, 25)\n",
    "plt.savefig('gamma5.eps', format='eps')\n",
    "plt.savefig('gamma5.pdf', format='pdf')"
   ]
  },
  {
   "cell_type": "markdown",
   "metadata": {},
   "source": [
    "<h4>Gamma with Depth=3</h4>"
   ]
  },
  {
   "cell_type": "code",
   "execution_count": 6,
   "metadata": {},
   "outputs": [
    {
     "name": "stderr",
     "output_type": "stream",
     "text": [
      "The PostScript backend does not support transparency; partially transparent artists will be rendered opaque.\n",
      "The PostScript backend does not support transparency; partially transparent artists will be rendered opaque.\n"
     ]
    },
    {
     "data": {
      "image/png": "[encoded data removed]",
      "text/plain": [
       "<Figure size 432x288 with 1 Axes>"
      ]
     },
     "metadata": {
      "needs_background": "light"
     },
     "output_type": "display_data"
    }
   ],
   "source": [
    "model = CFModel(3, k=3, lam=0, data_file=file, norm=1)\n",
    "model.fit()\n",
    "plt.scatter(model.X[:, 0], model.y, s=3, label='ground truth')\n",
    "xx = np.linspace(-3.5, 5, 10000).reshape(10000, 1)\n",
    "#plt.scatter(model.X[:, 0], model.predict(model.X), s=3)\n",
    "plt.scatter(xx, model.predict(xx), s=3, label='predicted')\n",
    "plt.legend()\n",
    "plt.ylim(-25, 25)\n",
    "plt.savefig('gamma3.eps', format='eps')\n",
    "plt.savefig('gamma3.pdf', format='pdf')"
   ]
  },
  {
   "cell_type": "markdown",
   "metadata": {},
   "source": [
    "<h3>Superconductivity</h3>\n",
    "<h4>out-of-domain</h4>"
   ]
  },
  {
   "cell_type": "code",
   "execution_count": 7,
   "metadata": {},
   "outputs": [],
   "source": [
    "file = os.path.join(data_path, \"superconductivity_lowest-90.in\")\n",
    "\n",
    "model = CFModel(5, k=5, lam=0.5, data_file=file, norm=1000)\n",
    "model.fit()"
   ]
  },
  {
   "cell_type": "code",
   "execution_count": 8,
   "metadata": {},
   "outputs": [
    {
     "data": {
      "image/png": "[encoded data removed]",
      "text/plain": [
       "<Figure size 432x288 with 1 Axes>"
      ]
     },
     "metadata": {
      "needs_background": "light"
     },
     "output_type": "display_data"
    }
   ],
   "source": [
    "model.plot_obsexp(\"linearreg_low90\")"
   ]
  },
  {
   "cell_type": "code",
   "execution_count": 9,
   "metadata": {},
   "outputs": [
    {
     "name": "stdout",
     "output_type": "stream",
     "text": [
      "Training MSE=94.21213580906424\tRMSE=9.706293618527322\n"
     ]
    }
   ],
   "source": [
    "trn_mse = model.mse()\n",
    "trn_rmse = math.sqrt(trn_mse)\n",
    "print(\"Training MSE={}\\tRMSE={}\".format(trn_mse, trn_rmse))"
   ]
  },
  {
   "cell_type": "code",
   "execution_count": 10,
   "metadata": {},
   "outputs": [
    {
     "data": {
      "image/png": "[encoded data removed]",
      "text/plain": [
       "<Figure size 432x288 with 1 Axes>"
      ]
     },
     "metadata": {
      "needs_background": "light"
     },
     "output_type": "display_data"
    }
   ],
   "source": [
    "file = os.path.join(data_path, \"superconductivity_highest-10.in\")\n",
    "\n",
    "model2 = CFModel(1, data_file=file, norm=1000)\n",
    "model.X = model2.X\n",
    "model.y = model2.y\n",
    "model.plot_obsexp(\"linearreg_high10\")"
   ]
  },
  {
   "cell_type": "code",
   "execution_count": 11,
   "metadata": {},
   "outputs": [
    {
     "name": "stdout",
     "output_type": "stream",
     "text": [
      "Out-of-domain Test MSE=1271.8931395869663\tRMSE=35.663610860188655\n"
     ]
    }
   ],
   "source": [
    "tst_mse = model.mse()\n",
    "tst_rmse = math.sqrt(tst_mse)\n",
    "print(\"Out-of-domain Test MSE={}\\tRMSE={}\".format(tst_mse, tst_rmse))"
   ]
  },
  {
   "cell_type": "markdown",
   "metadata": {},
   "source": [
    "<h3>Using XGBoost for out-of-domain prediction</h3>"
   ]
  },
  {
   "cell_type": "code",
   "execution_count": 12,
   "metadata": {},
   "outputs": [
    {
     "name": "stdout",
     "output_type": "stream",
     "text": [
      "RMSE: 0.035203\n"
     ]
    }
   ],
   "source": [
    "import xgboost as xgb\n",
    "from sklearn.metrics import mean_squared_error\n",
    "\n",
    "file = os.path.join(data_path, \"superconductivity_lowest-90.in\")\n",
    "model_trn = CFModel(1, data_file=file, norm=1000)\n",
    "file = os.path.join(data_path, \"superconductivity_highest-10.in\")\n",
    "model_tst = CFModel(1, data_file=file, norm=1000)\n",
    "\n",
    "X_train = model_trn.X\n",
    "y_train = model_trn.y\n",
    "X_test = model_tst.X\n",
    "y_test = model_tst.y\n",
    "\n",
    "\n",
    "xg_reg = xgb.XGBRegressor(objective ='binary:logistic', n_estimators=374,\n",
    "                          learning_rate=0.02, max_depth=16, min_child_weight=1, subsample=0.5)\n",
    "\n",
    "xg_reg.fit(X_train,y_train)\n",
    "\n",
    "preds = xg_reg.predict(X_test)\n",
    "rmse = np.sqrt(mean_squared_error(y_test, preds))\n",
    "print(\"RMSE: %f\" % (rmse))"
   ]
  },
  {
   "cell_type": "code",
   "execution_count": 13,
   "metadata": {},
   "outputs": [],
   "source": [
    "def plot_obsexp(X, y, y_pred, norm=1):\n",
    "    '''\n",
    "    Creates an expected vs. observed plot for a fitted model.\n",
    "    '''\n",
    "    xx = np.linspace(y.min()*norm, y.max()*norm, 1000)\n",
    "    plt.plot(xx, xx, c='r')\n",
    "    plt.scatter(y*norm, y_pred*norm, s=3)\n",
    "    plt.xlabel('Observed Critical Temperature (K)')\n",
    "    plt.ylabel('Predicted Critical Temperature(K)')\n",
    "    plt.savefig('obsexp.eps', format='eps')\n"
   ]
  },
  {
   "cell_type": "markdown",
   "metadata": {},
   "source": [
    "<h4>XGBoost:: Observed-vs-Predicted for Out-of-domain</h4>"
   ]
  },
  {
   "cell_type": "code",
   "execution_count": 14,
   "metadata": {
    "scrolled": true
   },
   "outputs": [
    {
     "data": {
      "image/png": "[encoded data removed]",
      "text/plain": [
       "<Figure size 432x288 with 1 Axes>"
      ]
     },
     "metadata": {
      "needs_background": "light"
     },
     "output_type": "display_data"
    }
   ],
   "source": [
    "plot_obsexp(X_test, y_test, preds, norm=1000)"
   ]
  },
  {
   "cell_type": "code",
   "execution_count": 15,
   "metadata": {},
   "outputs": [
    {
     "data": {
      "text/html": [
       "<div>\n",
       "<style scoped>\n",
       "    .dataframe tbody tr th:only-of-type {\n",
       "        vertical-align: middle;\n",
       "    }\n",
       "\n",
       "    .dataframe tbody tr th {\n",
       "        vertical-align: top;\n",
       "    }\n",
       "\n",
       "    .dataframe thead th {\n",
       "        text-align: right;\n",
       "    }\n",
       "</style>\n",
       "<table border=\"1\" class=\"dataframe\">\n",
       "  <thead>\n",
       "    <tr style=\"text-align: right;\">\n",
       "      <th></th>\n",
       "      <th>predicted</th>\n",
       "      <th>observed</th>\n",
       "    </tr>\n",
       "  </thead>\n",
       "  <tbody>\n",
       "    <tr>\n",
       "      <th>0</th>\n",
       "      <td>83.666298</td>\n",
       "      <td>89.0</td>\n",
       "    </tr>\n",
       "    <tr>\n",
       "      <th>1</th>\n",
       "      <td>88.093330</td>\n",
       "      <td>89.0</td>\n",
       "    </tr>\n",
       "    <tr>\n",
       "      <th>2</th>\n",
       "      <td>74.410439</td>\n",
       "      <td>89.0</td>\n",
       "    </tr>\n",
       "    <tr>\n",
       "      <th>3</th>\n",
       "      <td>70.738007</td>\n",
       "      <td>89.0</td>\n",
       "    </tr>\n",
       "    <tr>\n",
       "      <th>4</th>\n",
       "      <td>85.206253</td>\n",
       "      <td>89.0</td>\n",
       "    </tr>\n",
       "  </tbody>\n",
       "</table>\n",
       "</div>"
      ],
      "text/plain": [
       "   predicted  observed\n",
       "0  83.666298      89.0\n",
       "1  88.093330      89.0\n",
       "2  74.410439      89.0\n",
       "3  70.738007      89.0\n",
       "4  85.206253      89.0"
      ]
     },
     "execution_count": 15,
     "metadata": {},
     "output_type": "execute_result"
    }
   ],
   "source": [
    "import pandas as pd\n",
    "prev_obsrvd = {\"predicted\":preds*1000, \"observed\": y_test*1000}\n",
    "df = pd.DataFrame(prev_obsrvd)\n",
    "df.head()"
   ]
  },
  {
   "cell_type": "code",
   "execution_count": 16,
   "metadata": {},
   "outputs": [
    {
     "data": {
      "text/html": [
       "<div>\n",
       "<style scoped>\n",
       "    .dataframe tbody tr th:only-of-type {\n",
       "        vertical-align: middle;\n",
       "    }\n",
       "\n",
       "    .dataframe tbody tr th {\n",
       "        vertical-align: top;\n",
       "    }\n",
       "\n",
       "    .dataframe thead th {\n",
       "        text-align: right;\n",
       "    }\n",
       "</style>\n",
       "<table border=\"1\" class=\"dataframe\">\n",
       "  <thead>\n",
       "    <tr style=\"text-align: right;\">\n",
       "      <th></th>\n",
       "      <th>predicted</th>\n",
       "      <th>observed</th>\n",
       "    </tr>\n",
       "  </thead>\n",
       "  <tbody>\n",
       "    <tr>\n",
       "      <th>655</th>\n",
       "      <td>95.229454</td>\n",
       "      <td>92.00</td>\n",
       "    </tr>\n",
       "    <tr>\n",
       "      <th>156</th>\n",
       "      <td>91.335037</td>\n",
       "      <td>90.00</td>\n",
       "    </tr>\n",
       "    <tr>\n",
       "      <th>516</th>\n",
       "      <td>89.932816</td>\n",
       "      <td>91.30</td>\n",
       "    </tr>\n",
       "    <tr>\n",
       "      <th>85</th>\n",
       "      <td>89.311707</td>\n",
       "      <td>89.50</td>\n",
       "    </tr>\n",
       "    <tr>\n",
       "      <th>977</th>\n",
       "      <td>88.588478</td>\n",
       "      <td>93.50</td>\n",
       "    </tr>\n",
       "    <tr>\n",
       "      <th>582</th>\n",
       "      <td>88.216148</td>\n",
       "      <td>91.60</td>\n",
       "    </tr>\n",
       "    <tr>\n",
       "      <th>27</th>\n",
       "      <td>88.114861</td>\n",
       "      <td>89.10</td>\n",
       "    </tr>\n",
       "    <tr>\n",
       "      <th>45</th>\n",
       "      <td>88.114861</td>\n",
       "      <td>89.30</td>\n",
       "    </tr>\n",
       "    <tr>\n",
       "      <th>58</th>\n",
       "      <td>88.114861</td>\n",
       "      <td>89.40</td>\n",
       "    </tr>\n",
       "    <tr>\n",
       "      <th>484</th>\n",
       "      <td>88.114861</td>\n",
       "      <td>91.18</td>\n",
       "    </tr>\n",
       "  </tbody>\n",
       "</table>\n",
       "</div>"
      ],
      "text/plain": [
       "     predicted  observed\n",
       "655  95.229454     92.00\n",
       "156  91.335037     90.00\n",
       "516  89.932816     91.30\n",
       "85   89.311707     89.50\n",
       "977  88.588478     93.50\n",
       "582  88.216148     91.60\n",
       "27   88.114861     89.10\n",
       "45   88.114861     89.30\n",
       "58   88.114861     89.40\n",
       "484  88.114861     91.18"
      ]
     },
     "execution_count": 16,
     "metadata": {},
     "output_type": "execute_result"
    }
   ],
   "source": [
    "  \n",
    "# top 10 predicted temperatures values\n",
    "df.nlargest(10, ['predicted']) "
   ]
  },
  {
   "cell_type": "code",
   "execution_count": 17,
   "metadata": {},
   "outputs": [
    {
     "data": {
      "text/plain": [
       "observed    100.692347\n",
       "dtype: float64"
      ]
     },
     "execution_count": 17,
     "metadata": {},
     "output_type": "execute_result"
    }
   ],
   "source": [
    "df[['observed']].mean()"
   ]
  },
  {
   "cell_type": "code",
   "execution_count": 18,
   "metadata": {},
   "outputs": [
    {
     "data": {
      "text/plain": [
       "100.69234713076199"
      ]
     },
     "execution_count": 18,
     "metadata": {},
     "output_type": "execute_result"
    }
   ],
   "source": [
    "import statistics\n",
    "\n",
    "statistics.mean(model_tst.y*1000)"
   ]
  },
  {
   "cell_type": "code",
   "execution_count": 19,
   "metadata": {},
   "outputs": [
    {
     "data": {
      "text/html": [
       "<div>\n",
       "<style scoped>\n",
       "    .dataframe tbody tr th:only-of-type {\n",
       "        vertical-align: middle;\n",
       "    }\n",
       "\n",
       "    .dataframe tbody tr th {\n",
       "        vertical-align: top;\n",
       "    }\n",
       "\n",
       "    .dataframe thead th {\n",
       "        text-align: right;\n",
       "    }\n",
       "</style>\n",
       "<table border=\"1\" class=\"dataframe\">\n",
       "  <thead>\n",
       "    <tr style=\"text-align: right;\">\n",
       "      <th></th>\n",
       "      <th>predicted</th>\n",
       "      <th>observed</th>\n",
       "    </tr>\n",
       "  </thead>\n",
       "  <tbody>\n",
       "    <tr>\n",
       "      <th>2125</th>\n",
       "      <td>15.255698</td>\n",
       "      <td>185.0</td>\n",
       "    </tr>\n",
       "    <tr>\n",
       "      <th>2123</th>\n",
       "      <td>61.154449</td>\n",
       "      <td>143.0</td>\n",
       "    </tr>\n",
       "    <tr>\n",
       "      <th>2124</th>\n",
       "      <td>62.626556</td>\n",
       "      <td>143.0</td>\n",
       "    </tr>\n",
       "    <tr>\n",
       "      <th>2122</th>\n",
       "      <td>66.323639</td>\n",
       "      <td>137.4</td>\n",
       "    </tr>\n",
       "    <tr>\n",
       "      <th>2120</th>\n",
       "      <td>64.976723</td>\n",
       "      <td>136.0</td>\n",
       "    </tr>\n",
       "    <tr>\n",
       "      <th>2121</th>\n",
       "      <td>65.106125</td>\n",
       "      <td>136.0</td>\n",
       "    </tr>\n",
       "    <tr>\n",
       "      <th>2119</th>\n",
       "      <td>63.132755</td>\n",
       "      <td>135.8</td>\n",
       "    </tr>\n",
       "    <tr>\n",
       "      <th>2118</th>\n",
       "      <td>63.845486</td>\n",
       "      <td>135.7</td>\n",
       "    </tr>\n",
       "    <tr>\n",
       "      <th>2117</th>\n",
       "      <td>63.845486</td>\n",
       "      <td>135.5</td>\n",
       "    </tr>\n",
       "    <tr>\n",
       "      <th>2116</th>\n",
       "      <td>62.707619</td>\n",
       "      <td>135.4</td>\n",
       "    </tr>\n",
       "  </tbody>\n",
       "</table>\n",
       "</div>"
      ],
      "text/plain": [
       "      predicted  observed\n",
       "2125  15.255698     185.0\n",
       "2123  61.154449     143.0\n",
       "2124  62.626556     143.0\n",
       "2122  66.323639     137.4\n",
       "2120  64.976723     136.0\n",
       "2121  65.106125     136.0\n",
       "2119  63.132755     135.8\n",
       "2118  63.845486     135.7\n",
       "2117  63.845486     135.5\n",
       "2116  62.707619     135.4"
      ]
     },
     "execution_count": 19,
     "metadata": {},
     "output_type": "execute_result"
    }
   ],
   "source": [
    "df.nlargest(10, ['observed']) "
   ]
  },
  {
   "cell_type": "code",
   "execution_count": null,
   "metadata": {},
   "outputs": [],
   "source": []
  }
 ],
 "metadata": {
  "kernelspec": {
   "display_name": "Python 3",
   "language": "python",
   "name": "python3"
  },
  "language_info": {
   "codemirror_mode": {
    "name": "ipython",
    "version": 3
   },
   "file_extension": ".py",
   "mimetype": "text/x-python",
   "name": "python",
   "nbconvert_exporter": "python",
   "pygments_lexer": "ipython3",
   "version": "3.7.6"
  }
 },
 "nbformat": 4,
 "nbformat_minor": 4
}
